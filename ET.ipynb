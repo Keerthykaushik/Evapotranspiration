{
  "nbformat": 4,
  "nbformat_minor": 0,
  "metadata": {
    "colab": {
      "name": "ET.ipynb",
      "provenance": [],
      "toc_visible": true,
      "include_colab_link": true
    },
    "kernelspec": {
      "display_name": "Python 3",
      "language": "python",
      "name": "python3"
    },
    "language_info": {
      "codemirror_mode": {
        "name": "ipython",
        "version": 3
      },
      "file_extension": ".py",
      "mimetype": "text/x-python",
      "name": "python",
      "nbconvert_exporter": "python",
      "pygments_lexer": "ipython3",
      "version": "3.8.5"
    }
  },
  "cells": [
    {
      "cell_type": "markdown",
      "metadata": {
        "id": "view-in-github",
        "colab_type": "text"
      },
      "source": [
        "<a href=\"https://colab.research.google.com/github/sachingodishela/evapotranspiration/blob/main/ET.ipynb\" target=\"_parent\"><img src=\"https://colab.research.google.com/assets/colab-badge.svg\" alt=\"Open In Colab\"/></a>"
      ]
    },
    {
      "cell_type": "markdown",
      "metadata": {
        "id": "8WOeLIMlHepG"
      },
      "source": [
        "# CE4500: WATER RESOURCES ENGINEERING\n",
        "[Term Project](https://classroom.google.com/c/MTU4Mzk3MTQxNTE5/a/MTg2NzYwMzI3NjEw/details): Reference Evapotranspiration Calculation using [Penman](https://edis.ifas.ufl.edu/pdffiles/ae/ae45900.pdf) (for tall and short crop) and [Hargreaves](https://www.sciencedirect.com/science/article/abs/pii/S0378377413000048) methods.\n",
        "\n",
        "**Instructor:** [Dr. KBVN Phanindra](https://www.iith.ac.in/~phanindra/)\n",
        "\n",
        "\n",
        "| S No | Roll No.          | Name        |\n",
        "| --- | :-----------------: | :----------- |\n",
        "| 1 | CE17BTECH11019\t| [Sachin Godishela](https://github.com/sachingodishela)     |\n",
        "| 3 | CE17BTECH11011 | [Dhanush Sahasra](https://github.com/dhanush-sahasra)     |\n",
        "| 5 | CE17BTECH11026 | Manoj Kumar       |\n",
        "| 6 | CE17BTECH11028 | Chandra Kiran      |\n",
        "| 2 | CE17BTECH11013 | Keerthy Kaushik     |\n",
        "| 4 | CE17BTECH11023 | Joel Prakash        |\n",
        "| 7 | CE17BTECH11038 |  Vindod Vadithya      |"
      ]
    },
    {
      "cell_type": "markdown",
      "metadata": {
        "id": "qHVnUA4JHepJ"
      },
      "source": [
        "## 1. Importing Necessary Libraries\n",
        "The following packages are used in this notebook and are imported in the cell below:\n",
        "1. pandas for data processing\n",
        "2. numpy for matrix algebra\n",
        "3. matplotlib for graph plotting"
      ]
    },
    {
      "cell_type": "code",
      "metadata": {
        "id": "Uqo5ea2rvHZj"
      },
      "source": [
        "#1 libraries are imported here\n",
        "import pandas as pd\n",
        "import numpy as np\n",
        "from matplotlib import pyplot as plt"
      ],
      "execution_count": null,
      "outputs": []
    },
    {
      "cell_type": "markdown",
      "metadata": {
        "id": "GD0ygNfRve7v"
      },
      "source": [
        "## 2. Define Functions\n",
        "1. eT() calculates the vapor pressure at a given temperature\n",
        "2. ET() calculates required evapotranspiration by using Penman and Hargreaves methods"
      ]
    },
    {
      "cell_type": "code",
      "metadata": {
        "id": "fzVN4mGZvgbo"
      },
      "source": [
        "def eT(T):\n",
        "    y =  0.6108 * np.exp((17.27*T)/(T+237.3))\n",
        "    return y\n",
        "\n",
        "def ET(_Rs, _RHmax, _RHmin, _uh, _Tmax, _Tmin, _z, _J, _h, _phi_degree):\n",
        "    _Tmean = (_Tmax + _Tmin) * 0.5\n",
        "    _u2 = _uh * 4.87 / np.log(67.8*_h - 5.42)\n",
        "    _P = 101.3 * (((293-0.0065*_z)/293)**5.26)\n",
        "    _gamma = 0.000665 * _P\n",
        "    _dr = 1 + 0.033 * np.cos(2 * np.pi * _J / 365)\n",
        "    _dell = 0.409 * np.sin(2 * np.pi * _J / 365 - 1.39)\n",
        "    _phi = (np.pi / 180) * _phi_degree\n",
        "    _omega_s = np.arccos(- np.tan(_phi) * np.tan(_dell))\n",
        "    _Ra = (24*60/np.pi) * _Gsc * _dr * (_omega_s * np.sin(_phi) * np.sin(_dell) + np.sin(_omega_s) * np.cos(_phi) * np.cos(_dell))\n",
        "    _Rso = (0.75 + 2 * 10**-5 * _z) * _Ra\n",
        "    _Rns = (1 - _albedo) * _Rs\n",
        "    if(_RHmin != 0 and _RHmax != 0):\n",
        "        _ea = (eT(_Tmin)*(_RHmax/100) + eT(_Tmax)*(_RHmin/100))*0.5\n",
        "    else:\n",
        "        _ea = eT(_Tmin)\n",
        "    if(_RHmax > 0):\n",
        "        _ea *=  (_RHmax/100)\n",
        "    _es = 0.5 * (eT(_Tmax) + eT(_Tmin))\n",
        "    _Rnl = _sigma * (((_Tmax+273.16)**4 + (_Tmin+273.16)**4)/2) * (0.34 - 0.14 * np.sqrt(_ea)) * (1.35 * (_Rs/_Rso) - 0.35)\n",
        "    _Rn = _Rns - _Rnl\n",
        "    _delta = 4098*(0.6108*np.exp(17.27*_Tmean/(_Tmean+237.3)))/((_Tmean+237.3)**2)\n",
        "    _Cns = [[Cn_long, Cd_long], [Cn_short, Cd_short]]\n",
        "    _Ets = []\n",
        "    for cns in _Cns:\n",
        "        _Eto_numerator = 0.408 * _delta * (_Rn - G) + _gamma * ((cns[0])/(_Tmean + 273))  * _u2 * (_es - _ea)\n",
        "        _Eto_denominator = _delta + _gamma * (1 + cns[1] * _u2)\n",
        "        _Eto = _Eto_numerator / _Eto_denominator\n",
        "        _Ets.append(_Eto)\n",
        "    _Eto = 0.0135 * kRS * (_Ra/_lambda) * np.sqrt(_Tmax-_Tmin) * (_Tmean + 17.8)\n",
        "    _Ets.append(_Eto)\n",
        "    return _Ets                                                                 #long_penman, short_penman, hargreeves"
      ],
      "execution_count": null,
      "outputs": []
    },
    {
      "cell_type": "markdown",
      "metadata": {
        "id": "4HSLzQholmvq"
      },
      "source": [
        "## 3. Data Processing\n",
        "The given data excel has 2 sheets\n",
        "1. Daily Meteorological Parameters\n",
        "2. Experimental and Natural Constants"
      ]
    },
    {
      "cell_type": "markdown",
      "metadata": {
        "id": "gXQnuv_sHepV"
      },
      "source": [
        "### 3.1 Processing Daily Meteorolical Parameters\n",
        "The 1st sheet is read and converted to a matrix which is later used for calculations"
      ]
    },
    {
      "cell_type": "code",
      "metadata": {
        "id": "8QcgCJaqvi-7"
      },
      "source": [
        "df = pd.read_excel('AWS_Data.xls')                                                     # read the csv into a variable  encoding = 'iso-8859-1'\n",
        "df.drop(df.columns[[i for i in range(7, 12)]], axis = 1, inplace = True)\n",
        "df.drop([0, 1, 2], inplace=True)\n",
        "df_val = df.values"
      ],
      "execution_count": null,
      "outputs": []
    },
    {
      "cell_type": "markdown",
      "metadata": {
        "id": "HjKep9f9HepY"
      },
      "source": [
        "### 3.2 Processing Experimental & Natural Constants\n",
        "The 2nd sheet is read and stored in a matrix"
      ]
    },
    {
      "cell_type": "code",
      "metadata": {
        "id": "uzt3BwPktRIs"
      },
      "source": [
        "cons = pd.read_excel('AWS_Data.xls',index_col=None, sheet_name=1)\n",
        "cons.drop(cons.columns[[0,1,4]], axis=1, inplace=True)\n",
        "cons = cons.drop([0,1]).reset_index()\n",
        "cons = cons[cons.columns[[2]]].values.flatten()"
      ],
      "execution_count": null,
      "outputs": []
    },
    {
      "cell_type": "markdown",
      "metadata": {
        "id": "_FPf7CqPHepb"
      },
      "source": [
        "Constant specific variables are used to store the values read in the above cell"
      ]
    },
    {
      "cell_type": "code",
      "metadata": {
        "id": "Wbf3sBvhvTcQ"
      },
      "source": [
        "_z = cons[6]\n",
        "_Cp =  cons[0]  \n",
        "_h = cons[7]                    \n",
        "_phi_degree = cons[9]\n",
        "_albedo = cons[3]\n",
        "Cn_long = cons[1]      \n",
        "Cd_long = cons[2]          \n",
        "_Gsc = cons[4]\n",
        "_sigma = cons[5] "
      ],
      "execution_count": null,
      "outputs": []
    },
    {
      "cell_type": "markdown",
      "metadata": {
        "id": "pXsmmwxcHepe"
      },
      "source": [
        "External constants from relevant research paper are declared below:"
      ]
    },
    {
      "cell_type": "code",
      "metadata": {
        "id": "hhkcvt5IyZa8"
      },
      "source": [
        "G = 0\n",
        "Cn_short = 900             \n",
        "Cd_short = 0.34            \n",
        "_lambda = 2.45             \n",
        "kRS = 0.17"
      ],
      "execution_count": null,
      "outputs": []
    },
    {
      "cell_type": "markdown",
      "metadata": {
        "id": "B1l4n5foHeph"
      },
      "source": [
        "## 4. Calculation of ET values \n",
        "Using the functions defined at the beginning of the notebook and the imported data values, we calculate the required daily Evapotranspiration values for the entire year by using Penman and Hargreaves method\n",
        "\n",
        "The variable **ET_values** is used to store the results."
      ]
    },
    {
      "cell_type": "code",
      "metadata": {
        "id": "fiHNMT89vkwT"
      },
      "source": [
        "solutions = []\n",
        "for i in range(df_val.shape[0]):\n",
        "    par = df_val[i]\n",
        "    solutions.append(ET(par[5], par[3], par[4], par[6] , par[1], par[2],_z, par[0], _h, _phi_degree))\n",
        "ET_values = np.transpose(np.array(solutions))"
      ],
      "execution_count": null,
      "outputs": []
    },
    {
      "cell_type": "markdown",
      "metadata": {
        "id": "5MLsfPNfHepk"
      },
      "source": [
        "## 5. Plotting Daily ET Values\n",
        "Using the values stored earlier in **ET_values**, we plot daily ET values obtained from different methods in the below cell: "
      ]
    },
    {
      "cell_type": "code",
      "metadata": {
        "id": "pYQ1p5uMvmFG"
      },
      "source": [
        "#7 Plot daily ET values\n",
        "plt.figure(figsize=(19.2, 10.8))\n",
        "plt.plot(ET_values[0], label='Penman ET, Long Crop')\n",
        "plt.plot(ET_values[1], label='Penman ET, Short Crop')\n",
        "plt.plot(ET_values[2], label='Hargreaves ET')\n",
        "plt.legend()\n",
        "plt.xlabel('Day of the year')\n",
        "plt.ylabel('ET (mm/day)')\n",
        "plt.savefig('Daily ET Values.png', dpi=200)"
      ],
      "execution_count": null,
      "outputs": []
    },
    {
      "cell_type": "markdown",
      "metadata": {
        "id": "P31C4WI0Hepn"
      },
      "source": [
        "## 6. Plotting monthly ET values:"
      ]
    },
    {
      "cell_type": "code",
      "metadata": {
        "id": "fIpYik9HvnhP"
      },
      "source": [
        "max_days = [31, 28, 31, 30, 31, 30, 31, 31, 30, 31, 30, 31]\n",
        "months = ['Jan', 'Feb', 'Mar', 'Apr', 'May', 'Jun', 'Jul', 'Aug', 'Sep', 'Oct', 'Nov', 'Dec']\n",
        "avg = [[0, 0, 0] for x in range(12)]\n",
        "i = 0\n",
        "for d in range(12):\n",
        "    current_day = 0\n",
        "    while( current_day < max_days[d]):\n",
        "        avg[d][0] = avg[d][0] + ET_values[0][i]\n",
        "        avg[d][1] = avg[d][1] + ET_values[1][i]\n",
        "        avg[d][2] = avg[d][2] + ET_values[2][i]\n",
        "        current_day = current_day + 1\n",
        "        i = i + 1\n",
        "monthly_ET_values = np.transpose(np.array(avg))\n",
        "bar_width = 0.25\n",
        "r1 = np.arange(len(monthly_ET_values[0]))\n",
        "r2 = [x + bar_width for x in r1]\n",
        "r3 = [x + bar_width for x in r2]\n",
        "fig = plt.figure(figsize=(19.2, 10.8))\n",
        "\n",
        "plt.bar(months, monthly_ET_values[0], width=bar_width, label='Penman ET Monthly, Long Crop')\n",
        "plt.bar(r2, monthly_ET_values[1], width=bar_width, label='Penman ET Monthly, Short Crop')\n",
        "plt.bar(r3, monthly_ET_values[2], width=bar_width,label='Hargreaves ET Monthly')\n",
        "plt.legend()\n",
        "plt.xlabel('Month of the year')\n",
        "plt.ylabel('ET')\n",
        "plt.savefig('Monthly ET Values.png', dpi=200)"
      ],
      "execution_count": null,
      "outputs": []
    },
    {
      "cell_type": "markdown",
      "metadata": {
        "id": "h93LMtH5Hepq"
      },
      "source": [
        "## 7. Calculating cumulative monthly ET values"
      ]
    },
    {
      "cell_type": "code",
      "metadata": {
        "id": "Wij7hvEZvq5V"
      },
      "source": [
        "#9 cumulative monthly ET values from all three methods:\n",
        "cum_monthly = monthly_ET_values\n",
        "for d in range(1,12):\n",
        "    cum_monthly[0][d] += cum_monthly[0][d-1]\n",
        "    cum_monthly[1][d] += cum_monthly[1][d-1]\n",
        "    cum_monthly[2][d] += cum_monthly[2][d-1]"
      ],
      "execution_count": null,
      "outputs": []
    },
    {
      "cell_type": "markdown",
      "metadata": {
        "id": "w1bmxIo3Heps"
      },
      "source": [
        "## 8. Plotting cumulative monthly ET values"
      ]
    },
    {
      "cell_type": "code",
      "metadata": {
        "id": "raEVSvpjvrdN"
      },
      "source": [
        "#10 Plotting cumulative monthly values:\n",
        "r1 = np.arange(len(cum_monthly[0]))\n",
        "r2 = [x + bar_width for x in r1]\n",
        "r3 = [x + bar_width for x in r2]\n",
        "fig = plt.figure(figsize=(19.2, 10.8))\n",
        "plt.bar(months, cum_monthly[0], width=bar_width, label='Penman ET Monthly Cumulative, Long Crop')\n",
        "plt.bar(r2, cum_monthly[1], width=bar_width, label='Penman ET Monthly Cumulative, Short Crop')\n",
        "plt.bar(r3, cum_monthly[2], width=bar_width,label='Hargreaves ET Monthly Cumulative')\n",
        "plt.legend()\n",
        "plt.xlabel('Month of the year')\n",
        "plt.ylabel('ET')\n",
        "plt.savefig('Cumulative Monthly ET Values.png', dpi=200)"
      ],
      "execution_count": null,
      "outputs": []
    },
    {
      "cell_type": "markdown",
      "metadata": {
        "id": "E0CpD5yPHepv"
      },
      "source": [
        "## 9. Calculating cumulative daily ET values"
      ]
    },
    {
      "cell_type": "code",
      "metadata": {
        "id": "tgxmS17JvtBL"
      },
      "source": [
        "cum_ET =  ET_values\n",
        "for i in range(1, 365):\n",
        "    cum_ET[0][i] += cum_ET[0][i-1]\n",
        "    cum_ET[1][i] += cum_ET[1][i-1]\n",
        "    cum_ET[2][i] += cum_ET[2][i-1]"
      ],
      "execution_count": null,
      "outputs": []
    },
    {
      "cell_type": "markdown",
      "metadata": {
        "id": "glDt98eTHepy"
      },
      "source": [
        "## 10. Plotting cumulative daily ET values"
      ]
    },
    {
      "cell_type": "code",
      "metadata": {
        "id": "nyfKpCotvzdw"
      },
      "source": [
        "#13 Plotting cumulative daily values:\n",
        "plt.figure(figsize=(19.2, 10.8))\n",
        "plt.plot(cum_ET[0], label='Cumulative Penman ET, Long Crop')\n",
        "plt.plot(cum_ET[1], label='Cumulative Penman ET, Short Crop')\n",
        "plt.plot(cum_ET[2], label='Cumulative Hargreaves ET')\n",
        "plt.legend()\n",
        "plt.xlabel('Day of the year')\n",
        "plt.ylabel('ET')\n",
        "plt.savefig('Cumulative Daily ET Values.png', dpi=200)"
      ],
      "execution_count": null,
      "outputs": []
    },
    {
      "cell_type": "markdown",
      "metadata": {
        "id": "HneBfakrHep1"
      },
      "source": [
        "## 11. Export the calculated daily cumulative ET values to a text file"
      ]
    },
    {
      "cell_type": "code",
      "metadata": {
        "id": "XkOTVtkFv1-y"
      },
      "source": [
        "#14 Generate daily ET Cumulative values\n",
        "f = open('Cumulative Daily.txt', 'a')\n",
        "f.write('Long_Penman_Daily_Cumulative, Short_Penman_Daily_Cumulative, Hargreaves_Cumulative\\n')\n",
        "np.set_printoptions(threshold=np.inf)\n",
        "f.write(np.array_str(np.transpose(ET_values)))\n",
        "f.close()"
      ],
      "execution_count": null,
      "outputs": []
    },
    {
      "cell_type": "markdown",
      "metadata": {
        "id": "6ar6Ao4yHep3"
      },
      "source": [
        "## 12. Export the calculated monthly cumulative ET values to a text file"
      ]
    },
    {
      "cell_type": "code",
      "metadata": {
        "id": "owBm-TAhv3y8"
      },
      "source": [
        "#15 Generate monthly ET Cumulative values\n",
        "f = open('Cumulative Monthly.txt', 'a')\n",
        "f.write('Long_Penman_Monthly_Cumulative, Short_Penman_Monthly_Cumulative, Hargreaves_Cumulative\\n')\n",
        "f.write(np.array_str(np.transpose(monthly_ET_values)))\n",
        "f.close()"
      ],
      "execution_count": null,
      "outputs": []
    },
    {
      "cell_type": "markdown",
      "metadata": {
        "id": "dSJqo0aRHep5"
      },
      "source": [
        "Thank you for reading. Follow this [link](https://github.com/sachingodishela/evapotranspiration) for the repository."
      ]
    }
  ]
}