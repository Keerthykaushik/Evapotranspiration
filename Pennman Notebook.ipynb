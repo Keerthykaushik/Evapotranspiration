{
 "cells": [
  {
   "source": [
    "# ETo Calculation for one day from the given dataset - Penman Method"
   ],
   "cell_type": "markdown",
   "metadata": {}
  },
  {
   "cell_type": "markdown",
   "metadata": {},
   "source": [
    "## Input Parameters"
   ]
  },
  {
   "cell_type": "code",
   "execution_count": 5,
   "metadata": {},
   "outputs": [],
   "source": [
    "import numpy as np\n",
    "\n",
    " G = 0\n",
    "_Rs = 9.7230144 # MJ/(m^2-day)\n",
    "_uh = 2.240117 # metre sec^-1, for 1 metre height\n",
    "_Tmax = 56.54 # centigrade\n",
    "_Tmin = 27.32 # centigrade\n",
    "_RHmax = 83.4\n",
    "_RHmin = 17.7\n",
    "_J = 1\n",
    "_z = 650\n",
    "_date = '2003-01-01' # YYYY-MM-DD\n",
    "_Cn = 1600\n",
    "_Cd = 0.38\n",
    "_h = 1 # metre\n",
    "_phi_degree = 17.3667\n",
    "_albedo = 0.225\n",
    "_Cp = 0.001013 # MJ/kg-C\n",
    "_Tbase = 18 # centigrade\n",
    "_Tcutoff = 50 # centigrade"
   ]
  },
  {
   "cell_type": "markdown",
   "metadata": {},
   "source": [
    "## Tmean Calculation"
   ]
  },
  {
   "cell_type": "code",
   "execution_count": 6,
   "metadata": {},
   "outputs": [
    {
     "output_type": "stream",
     "name": "stdout",
     "text": [
      "41.93\n"
     ]
    }
   ],
   "source": [
    "_Tmean = (_Tmax + _Tmin) * 0.5\n",
    "print(_Tmean)"
   ]
  },
  {
   "cell_type": "markdown",
   "metadata": {},
   "source": [
    "## u2 Calculation"
   ]
  },
  {
   "cell_type": "code",
   "execution_count": 7,
   "metadata": {},
   "outputs": [
    {
     "output_type": "stream",
     "name": "stdout",
     "text": [
      "2.6394202502678317\n"
     ]
    }
   ],
   "source": [
    "_u2 = _uh * 4.87 / np.log(67.8*_h - 5.42)\n",
    "print(_u2)"
   ]
  },
  {
   "cell_type": "markdown",
   "metadata": {},
   "source": [
    "## P Calculation\n",
    "Units: Kilo Pascals"
   ]
  },
  {
   "cell_type": "code",
   "execution_count": 8,
   "metadata": {},
   "outputs": [
    {
     "output_type": "stream",
     "name": "stdout",
     "text": [
      "93.84890699092698\n"
     ]
    }
   ],
   "source": [
    "_P = 101.3 * (((293-0.0065*_z)/293)**5.26)\n",
    "print(_P)"
   ]
  },
  {
   "cell_type": "markdown",
   "metadata": {},
   "source": [
    "## Gamma Calculation\n",
    "Psychometric constant, units: kPa/C"
   ]
  },
  {
   "cell_type": "code",
   "execution_count": 9,
   "metadata": {},
   "outputs": [
    {
     "output_type": "stream",
     "name": "stdout",
     "text": [
      "0.06240952314896644\n"
     ]
    }
   ],
   "source": [
    "_gamma = 0.000665 * _P\n",
    "print(_gamma)"
   ]
  },
  {
   "cell_type": "markdown",
   "metadata": {},
   "source": [
    "## dr Calculation\n",
    "Inverse relative distance earth-sun"
   ]
  },
  {
   "cell_type": "code",
   "execution_count": 10,
   "metadata": {},
   "outputs": [
    {
     "output_type": "stream",
     "name": "stdout",
     "text": [
      "1.0329951106939008\n"
     ]
    }
   ],
   "source": [
    "_dr = 1 + 0.033 * np.cos(2 * np.pi * _J / 365)\n",
    "print(_dr)"
   ]
  },
  {
   "cell_type": "markdown",
   "metadata": {},
   "source": [
    "## dell Calculation\n",
    "solar declination in radians"
   ]
  },
  {
   "cell_type": "code",
   "execution_count": 11,
   "metadata": {},
   "outputs": [
    {
     "output_type": "stream",
     "name": "stdout",
     "text": [
      "-0.4010080925946237\n"
     ]
    }
   ],
   "source": [
    "_dell = 0.409 * np.sin(2 * np.pi * _J / 365 - 1.39)\n",
    "print(_dell)"
   ]
  },
  {
   "cell_type": "markdown",
   "metadata": {},
   "source": [
    "## Phi Conversion\n",
    "latitude"
   ]
  },
  {
   "cell_type": "code",
   "execution_count": 12,
   "metadata": {},
   "outputs": [
    {
     "output_type": "stream",
     "name": "stdout",
     "text": [
      "0.30310609520609927\n"
     ]
    }
   ],
   "source": [
    "_phi = (np.pi / 180) * _phi_degree\n",
    "print(_phi)"
   ]
  },
  {
   "cell_type": "markdown",
   "metadata": {},
   "source": [
    "## Omega_s Calculation\n",
    "Sunset hour angle"
   ]
  },
  {
   "cell_type": "code",
   "execution_count": 13,
   "metadata": {},
   "outputs": [
    {
     "output_type": "stream",
     "name": "stdout",
     "text": [
      "1.4378073202858714\n"
     ]
    }
   ],
   "source": [
    "_omega_s = np.arccos(- np.tan(_phi) * np.tan(_dell))\n",
    "print(_omega_s)"
   ]
  },
  {
   "cell_type": "markdown",
   "metadata": {},
   "source": [
    "## Ra Calculation\n",
    "Extra terrestrial radiation"
   ]
  },
  {
   "cell_type": "code",
   "execution_count": 14,
   "metadata": {},
   "outputs": [
    {
     "output_type": "stream",
     "name": "stdout",
     "text": [
      "27.310964676776262\n"
     ]
    }
   ],
   "source": [
    "Gsc = 0.0820 #Solar constant\n",
    "_Ra = (24*60/np.pi) * Gsc * _dr * (_omega_s * np.sin(_phi) * np.sin(_dell) + np.sin(_omega_s) * np.cos(_phi) * np.cos(_dell))\n",
    "print(_Ra)"
   ]
  },
  {
   "cell_type": "markdown",
   "metadata": {},
   "source": [
    "## Rso Calculation\n",
    "Clear sky solar radiation"
   ]
  },
  {
   "cell_type": "code",
   "execution_count": 15,
   "metadata": {},
   "outputs": [
    {
     "output_type": "stream",
     "name": "stdout",
     "text": [
      "20.838266048380287\n"
     ]
    }
   ],
   "source": [
    "_Rso = (0.75 + 2 * 10**-5 * _z) * _Ra\n",
    "print(_Rso)"
   ]
  },
  {
   "cell_type": "markdown",
   "metadata": {},
   "source": [
    "## Rns Calculation\n",
    "net solar shortwave radiation"
   ]
  },
  {
   "cell_type": "code",
   "execution_count": 16,
   "metadata": {},
   "outputs": [
    {
     "output_type": "stream",
     "name": "stdout",
     "text": [
      "7.535336160000001\n"
     ]
    }
   ],
   "source": [
    "_Rns = (1 - _albedo) * _Rs\n",
    "print(_Rns)"
   ]
  },
  {
   "cell_type": "markdown",
   "metadata": {},
   "source": [
    "## ea Calculation"
   ]
  },
  {
   "cell_type": "code",
   "execution_count": 17,
   "metadata": {},
   "outputs": [
    {
     "output_type": "stream",
     "name": "stdout",
     "text": [
      "3.01466130836293\n"
     ]
    }
   ],
   "source": [
    "def eT(T):\n",
    "    y =  0.6108 * np.exp((17.27*T)/(T+237.3))\n",
    "    return y\n",
    "_ea = (eT(_Tmin)*(_RHmax/100) + eT(_Tmax)*(_RHmin/100))*0.5\n",
    "print(_ea)"
   ]
  },
  {
   "cell_type": "markdown",
   "metadata": {},
   "source": [
    "## es Calculation\n",
    "Mean saturation vapour pressure"
   ]
  },
  {
   "cell_type": "code",
   "execution_count": 18,
   "metadata": {},
   "outputs": [
    {
     "output_type": "stream",
     "name": "stdout",
     "text": [
      "10.28970986781162\n"
     ]
    }
   ],
   "source": [
    "_es = 0.5 * (eT(_Tmax) + eT(_Tmin))\n",
    "print(_es)"
   ]
  },
  {
   "cell_type": "markdown",
   "metadata": {},
   "source": [
    "## Rnl Calculation\n"
   ]
  },
  {
   "cell_type": "code",
   "execution_count": 19,
   "metadata": {},
   "outputs": [
    {
     "output_type": "stream",
     "name": "stdout",
     "text": [
      "1.3279856270934451\n"
     ]
    }
   ],
   "source": [
    "sigma = 4.903 * 10**-9 # MJ  K^-4 m^-2 day^-1\n",
    "_Rnl = sigma * (((_Tmax+273.16)**4 + (_Tmin+273.16)**4)/2) * (0.34 - 0.14 * np.sqrt(_ea)) * (1.35 * (_Rs/_Rso) - 0.35)\n",
    "print(_Rnl)"
   ]
  },
  {
   "cell_type": "markdown",
   "metadata": {},
   "source": [
    "## Rn Calculation"
   ]
  },
  {
   "cell_type": "code",
   "execution_count": 20,
   "metadata": {},
   "outputs": [
    {
     "output_type": "stream",
     "name": "stdout",
     "text": [
      "6.207350532906556\n"
     ]
    }
   ],
   "source": [
    "_Rn = _Rns - _Rnl\n",
    "print(_Rn)"
   ]
  },
  {
   "cell_type": "markdown",
   "metadata": {},
   "source": [
    "## Delta Calculation\n",
    "Slope of saturation vapour pressure curve"
   ]
  },
  {
   "cell_type": "code",
   "execution_count": 21,
   "metadata": {},
   "outputs": [
    {
     "output_type": "stream",
     "name": "stdout",
     "text": [
      "0.4293474019648797\n"
     ]
    }
   ],
   "source": [
    "_delta = 4098*(0.6108*np.exp(17.27*_Tmean/(_Tmean+237.3)))/((_Tmean+237.3)**2)\n",
    "print(_delta)"
   ]
  },
  {
   "cell_type": "markdown",
   "metadata": {},
   "source": [
    "## Eto Calculation"
   ]
  },
  {
   "cell_type": "code",
   "execution_count": 22,
   "metadata": {},
   "outputs": [
    {
     "output_type": "stream",
     "name": "stdout",
     "text": [
      "12.944361258937795\n"
     ]
    }
   ],
   "source": [
    "numer = 0.408 * _delta * (_Rn - G) + _gamma * ((_Cn)/(_Tmean + 273))  * _u2 * (_es - _ea)\n",
    "denom = _delta + _gamma * (1 + _Cd * _u2)\n",
    "_Eto = numer / denom\n",
    "print(_Eto)"
   ]
  },
  {
   "cell_type": "code",
   "execution_count": null,
   "metadata": {},
   "outputs": [],
   "source": []
  }
 ],
 "metadata": {
  "kernelspec": {
   "display_name": "Python 3",
   "language": "python",
   "name": "python3"
  },
  "language_info": {
   "codemirror_mode": {
    "name": "ipython",
    "version": 3
   },
   "file_extension": ".py",
   "mimetype": "text/x-python",
   "name": "python",
   "nbconvert_exporter": "python",
   "pygments_lexer": "ipython3",
   "version": "3.8.2-final"
  }
 },
 "nbformat": 4,
 "nbformat_minor": 4
}